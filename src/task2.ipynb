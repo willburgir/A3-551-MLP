{
 "cells": [
  {
   "cell_type": "code",
   "execution_count": null,
   "id": "f281c82b",
   "metadata": {},
   "outputs": [],
   "source": [
    "def evaluate_acc(y, yh):\n",
    "    \"\"\"\n",
    "    Evaluates the accuracy given true labels and predicted labels.\n",
    "\n",
    "    Args:\n",
    "        y (torch.Tensor): True labels of shape (N,).\n",
    "        yh (torch.Tensor): Predicted labels of shape (N,).\n",
    "\n",
    "    Returns:\n",
    "        float: Accuracy as a float between 0 and 1.\n",
    "    \"\"\"\n",
    "    correct = (y == yh).sum().item()\n",
    "    total = y.size(0)\n",
    "    if total <= 0:\n",
    "        print(\"Warning: No samples to evaluate accuracy. (denominator is zero)\")\n",
    "        return 0.0\n",
    "    return correct / total "
   ]
  }
 ],
 "metadata": {
  "language_info": {
   "name": "python"
  }
 },
 "nbformat": 4,
 "nbformat_minor": 5
}
